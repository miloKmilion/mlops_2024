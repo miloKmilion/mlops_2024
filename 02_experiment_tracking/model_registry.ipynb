{
 "cells": [
  {
   "cell_type": "code",
   "execution_count": 1,
   "metadata": {},
   "outputs": [],
   "source": [
    "## This is Model regstry playground."
   ]
  },
  {
   "cell_type": "code",
   "execution_count": 2,
   "metadata": {},
   "outputs": [],
   "source": [
    "from mlflow.tracking import MlflowClient\n",
    "\n",
    "MLFLOW_TRACKING_URI = \"sqlite:///mlflow.db\"\n",
    "\n",
    "client = MlflowClient(tracking_uri=MLFLOW_TRACKING_URI)"
   ]
  },
  {
   "cell_type": "code",
   "execution_count": 6,
   "metadata": {},
   "outputs": [
    {
     "data": {
      "text/plain": [
       "[<Experiment: artifact_location=('file:///c:/Users/CamiloA/OneDrive/Documents/Python '\n",
       "  'Scripts/mlops_2024/02_experiment_tracking/mlruns/2'), creation_time=1716641954616, experiment_id='2', last_update_time=1716641954616, lifecycle_stage='active', name='prediction_tracking', tags={}>,\n",
       " <Experiment: artifact_location=('file:///c:/Users/CamiloA/OneDrive/Documents/Python '\n",
       "  'Scripts/mlops_2024/02_experiment_tracking/mlruns/1'), creation_time=1716638531332, experiment_id='1', last_update_time=1716638531332, lifecycle_stage='active', name='prediction_tracking_demo', tags={}>,\n",
       " <Experiment: artifact_location=('file:///c:/Users/CamiloA/OneDrive/Documents/Python '\n",
       "  'Scripts/mlops_2024/02_experiment_tracking/mlruns/0'), creation_time=1716638531323, experiment_id='0', last_update_time=1716638531323, lifecycle_stage='active', name='Default', tags={}>]"
      ]
     },
     "execution_count": 6,
     "metadata": {},
     "output_type": "execute_result"
    }
   ],
   "source": [
    "client.search_experiments()"
   ]
  },
  {
   "cell_type": "code",
   "execution_count": 7,
   "metadata": {},
   "outputs": [
    {
     "data": {
      "text/plain": [
       "'3'"
      ]
     },
     "execution_count": 7,
     "metadata": {},
     "output_type": "execute_result"
    }
   ],
   "source": [
    "client.create_experiment(name=\"2\")"
   ]
  },
  {
   "cell_type": "code",
   "execution_count": 16,
   "metadata": {},
   "outputs": [],
   "source": [
    "from mlflow.entities import ViewType\n",
    "\n",
    "runs = client.search_runs(\n",
    "    experiment_ids=\"2\",\n",
    "    filter_string=\"metrics.rmse < 5\",\n",
    "    run_view_type=ViewType.ACTIVE_ONLY,\n",
    "    order_by=['metrics.rmse ASC']\n",
    "    \n",
    "    )"
   ]
  },
  {
   "cell_type": "code",
   "execution_count": 17,
   "metadata": {},
   "outputs": [
    {
     "name": "stdout",
     "output_type": "stream",
     "text": [
      "run id: 21bbbad50ad24aa9a606aad30bc0c0e5, rmse: 4.523944\n",
      "run id: f73a68f648a142af9e958c7df8bc3d08, rmse: 4.524921\n",
      "run id: 23ac1e56800242e6bdee8f643733d7f2, rmse: 4.524921\n",
      "run id: 961739c0353b4ec6a8029f0a42f9189c, rmse: 4.525091\n",
      "run id: e788bdf8a3da4dd78679060e66261e06, rmse: 4.525356\n",
      "run id: 69dd444131b64684a78ba8bc73856d70, rmse: 4.526655\n",
      "run id: 9e759ff452e745eb96e40d7adf555eb1, rmse: 4.526687\n",
      "run id: b8cef0b517b747abb11c45cfd48e4cef, rmse: 4.527939\n",
      "run id: 98fe350e6d794381ba67ef7e66a6caa7, rmse: 4.528704\n",
      "run id: ea868d4566d747f0b16b3fc0b555774a, rmse: 4.529870\n",
      "run id: a0014e5754844a9f888b08a0353cc775, rmse: 4.530404\n",
      "run id: 9b3381898ad24357938c1bf6fa2f8235, rmse: 4.530654\n",
      "run id: eab963f6405a4778b8420fd696c04260, rmse: 4.531137\n",
      "run id: 072319edcc94456b97b20b12ae3d3d5a, rmse: 4.532082\n",
      "run id: deff7bcdca8a4ff7bea5352a5d6b8922, rmse: 4.534120\n",
      "run id: c03197c4275c48fab86b4a35717df1a7, rmse: 4.535969\n",
      "run id: a5f2db892ced44528b16ccc68f2fbe23, rmse: 4.539704\n",
      "run id: 1f9ecc11923a4c729de6a1cf29a00702, rmse: 4.541433\n",
      "run id: 93c08657a9d64f7bb0892f1bb6685625, rmse: 4.542640\n",
      "run id: 57e0b2c1c99d45e8b968bb690958f898, rmse: 4.544018\n",
      "run id: 32aeed9d63e84ee3a050c67fe91c2cca, rmse: 4.544327\n",
      "run id: bc1764c4e861456f991ee36e996c1438, rmse: 4.545700\n",
      "run id: c1d465b1344049038a5ae251cc2888ed, rmse: 4.545906\n",
      "run id: b68eb90e50a74b26b41e6ed4c83edf5b, rmse: 4.550639\n",
      "run id: 5d79618382a94bc88566c9666aee9279, rmse: 4.551005\n",
      "run id: 67bc2eb516c043e98aef4f9298bbcfa6, rmse: 4.552636\n",
      "run id: 97d866910926475a80f74ee1ca2a7ff0, rmse: 4.558980\n",
      "run id: 82caa850b0c449fa934659e5a0394074, rmse: 4.561215\n",
      "run id: 502c9902c6d7406c88408bf667d99ba3, rmse: 4.565856\n",
      "run id: 4d31b67aecaf4036913034a040943b0b, rmse: 4.567198\n",
      "run id: 9893e0e1b19340fa8c1914a8f4d46008, rmse: 4.568351\n",
      "run id: 65cb9a3c6bd84b869d90d004510ef888, rmse: 4.569090\n",
      "run id: eb940befc9944ff5984b468232fc0151, rmse: 4.578756\n",
      "run id: d07700e86eac488aa270d2f941d35520, rmse: 4.583088\n",
      "run id: 8bb8ac7219e640909ae311bf34344911, rmse: 4.584024\n",
      "run id: a5f69f88416c4883a01cb1a38dc8d6f0, rmse: 4.585666\n",
      "run id: 04dac0009a9b400991193c92284f8bab, rmse: 4.586631\n",
      "run id: e5f503264889453b9a6ce3b71f438444, rmse: 4.591008\n",
      "run id: 1d87d4d6974f413db3b35479e5ead5cd, rmse: 4.591490\n",
      "run id: 0022fdad451545ba9cd8ec9b55dc3fb3, rmse: 4.593349\n",
      "run id: 7c7f955431b743d5abd1b0cd30d1b406, rmse: 4.598597\n",
      "run id: 05b9587d1c0b42bfbf5c04ac96b5506e, rmse: 4.598931\n",
      "run id: e0e0eb30f1924268a09a618d3fef36e8, rmse: 4.598958\n",
      "run id: a3b142f8c8ee410b91add6c01dd68164, rmse: 4.602955\n",
      "run id: 058ab6b190db4fb2b69798824baada03, rmse: 4.603399\n",
      "run id: 9f64bf97b1c640eb93e163918862cfa3, rmse: 4.620341\n",
      "run id: 6ee2bf9c6d874a64bdb5a77ea5c0da51, rmse: 4.622804\n",
      "run id: 7caee35c7ca2422889a59831da64e443, rmse: 4.656389\n",
      "run id: 79b9b8b894e2453d8db6a586dc61a05a, rmse: 4.663844\n",
      "run id: 29b47651ffd24585bc8cfaa0b6e56c05, rmse: 4.677257\n",
      "run id: da57cfb2b3694ec2b914fbb0c8bc3e01, rmse: 4.820745\n"
     ]
    }
   ],
   "source": [
    "for run in runs:\n",
    "    print(f\"run id: {run.info.run_id}, rmse: {run.data.metrics['rmse']:4f}\")"
   ]
  },
  {
   "cell_type": "code",
   "execution_count": 18,
   "metadata": {},
   "outputs": [],
   "source": [
    "#How can we promote the experiment to a new stage\n",
    "import mlflow\n",
    "\n",
    "mlflow.set_tracking_uri(MLFLOW_TRACKING_URI)\n"
   ]
  },
  {
   "cell_type": "code",
   "execution_count": 21,
   "metadata": {},
   "outputs": [
    {
     "name": "stderr",
     "output_type": "stream",
     "text": [
      "Registered model 'nyc-taxi-regresor' already exists. Creating a new version of this model...\n",
      "Created version '3' of model 'nyc-taxi-regresor'.\n"
     ]
    },
    {
     "data": {
      "text/plain": [
       "<ModelVersion: aliases=[], creation_timestamp=1716985622995, current_stage='None', description=None, last_updated_timestamp=1716985622995, name='nyc-taxi-regresor', run_id='58c38f20f91846ba9fd0ef59c6e53082', run_link=None, source=('file:///c:/Users/CamiloA/OneDrive/Documents/Python '\n",
       " 'Scripts/mlops_2024/02_experiment_tracking/mlruns/2/58c38f20f91846ba9fd0ef59c6e53082/artifacts/models_mlflow'), status='READY', status_message=None, tags={}, user_id=None, version=3>"
      ]
     },
     "execution_count": 21,
     "metadata": {},
     "output_type": "execute_result"
    }
   ],
   "source": [
    "run_id = '58c38f20f91846ba9fd0ef59c6e53082'\n",
    "model_uri = f\"runs:/{run_id}/models_mlflow\"\n",
    "\n",
    "mlflow.register_model(model_uri=model_uri, name=\"nyc-taxi-regresor\") "
   ]
  },
  {
   "cell_type": "code",
   "execution_count": 23,
   "metadata": {},
   "outputs": [
    {
     "name": "stdout",
     "output_type": "stream",
     "text": [
      "version: 3, stage: None\n"
     ]
    },
    {
     "name": "stderr",
     "output_type": "stream",
     "text": [
      "C:\\Users\\CamiloA\\AppData\\Local\\Temp\\ipykernel_92364\\940738233.py:2: FutureWarning: ``mlflow.tracking.client.MlflowClient.get_latest_versions`` is deprecated since 2.9.0. Model registry stages will be removed in a future major release. To learn more about the deprecation of model registry stages, see our migration guide here: https://mlflow.org/docs/2.13.0/model-registry.html#migrating-from-stages\n",
      "  latest_versions = client.get_latest_versions(name=model_name)\n"
     ]
    }
   ],
   "source": [
    "model_name = \"nyc-taxi-regresor\"\n",
    "latest_versions = client.get_latest_versions(name=model_name)\n",
    "\n",
    "for version in latest_versions:\n",
    "    print(f\"version: {version.version}, stage: {version.current_stage}\")"
   ]
  },
  {
   "cell_type": "code",
   "execution_count": 25,
   "metadata": {},
   "outputs": [
    {
     "name": "stderr",
     "output_type": "stream",
     "text": [
      "C:\\Users\\CamiloA\\AppData\\Local\\Temp\\ipykernel_92364\\1882954017.py:4: FutureWarning: ``mlflow.tracking.client.MlflowClient.transition_model_version_stage`` is deprecated since 2.9.0. Model registry stages will be removed in a future major release. To learn more about the deprecation of model registry stages, see our migration guide here: https://mlflow.org/docs/2.13.0/model-registry.html#migrating-from-stages\n",
      "  client.transition_model_version_stage(\n"
     ]
    },
    {
     "data": {
      "text/plain": [
       "<ModelVersion: aliases=[], creation_timestamp=1716985622995, current_stage='Staging', description=None, last_updated_timestamp=1716987181512, name='nyc-taxi-regresor', run_id='58c38f20f91846ba9fd0ef59c6e53082', run_link=None, source=('file:///c:/Users/CamiloA/OneDrive/Documents/Python '\n",
       " 'Scripts/mlops_2024/02_experiment_tracking/mlruns/2/58c38f20f91846ba9fd0ef59c6e53082/artifacts/models_mlflow'), status='READY', status_message=None, tags={'Stage': 'Staging'}, user_id=None, version=3>"
      ]
     },
     "execution_count": 25,
     "metadata": {},
     "output_type": "execute_result"
    }
   ],
   "source": [
    "model_version = 3\n",
    "new_stage = \"Staging\"\n",
    "\n",
    "client.transition_model_version_stage(\n",
    "    name = model_name,\n",
    "    version = model_version,\n",
    "    stage = new_stage,\n",
    "    archive_existing_versions = False\n",
    ")"
   ]
  },
  {
   "cell_type": "code",
   "execution_count": 30,
   "metadata": {},
   "outputs": [
    {
     "data": {
      "text/plain": [
       "<ModelVersion: aliases=[], creation_timestamp=1716983188779, current_stage='None', description=('The model version <ModelVersion: aliases=[], '\n",
       " \"creation_timestamp=1716985622995, current_stage='None', description=None, \"\n",
       " \"last_updated_timestamp=1716985622995, name='nyc-taxi-regresor', \"\n",
       " \"run_id='58c38f20f91846ba9fd0ef59c6e53082', run_link=None, \"\n",
       " \"source=('file:///c:/Users/CamiloA/OneDrive/Documents/Python '\\n\"\n",
       " ' '\n",
       " \"'Scripts/mlops_2024/02_experiment_tracking/mlruns/2/58c38f20f91846ba9fd0ef59c6e53082/artifacts/models_mlflow'), \"\n",
       " \"status='READY', status_message=None, tags={}, user_id=None, version=3> was \"\n",
       " 'transitioned to Staging'), last_updated_timestamp=1716987219489, name='nyc-taxi-regresor', run_id='58c38f20f91846ba9fd0ef59c6e53082', run_link='', source='models:/nyc-taxi-regresor/1', status='READY', status_message=None, tags={}, user_id=None, version=2>"
      ]
     },
     "execution_count": 30,
     "metadata": {},
     "output_type": "execute_result"
    }
   ],
   "source": [
    "client.update_model_version(\n",
    "    name = model_name,\n",
    "    version = 2,\n",
    "    description = f\"The model version {version} was transitioned to {new_stage}\"\n",
    ")"
   ]
  },
  {
   "cell_type": "code",
   "execution_count": null,
   "metadata": {},
   "outputs": [],
   "source": []
  }
 ],
 "metadata": {
  "kernelspec": {
   "display_name": ".venv",
   "language": "python",
   "name": "python3"
  },
  "language_info": {
   "codemirror_mode": {
    "name": "ipython",
    "version": 3
   },
   "file_extension": ".py",
   "mimetype": "text/x-python",
   "name": "python",
   "nbconvert_exporter": "python",
   "pygments_lexer": "ipython3",
   "version": "3.12.0"
  }
 },
 "nbformat": 4,
 "nbformat_minor": 2
}
